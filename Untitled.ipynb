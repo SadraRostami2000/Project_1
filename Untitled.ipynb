{
 "cells": [
  {
   "cell_type": "code",
   "execution_count": 4,
   "id": "e79680cd",
   "metadata": {
    "scrolled": true
   },
   "outputs": [
    {
     "name": "stdout",
     "output_type": "stream",
     "text": [
      "88.09061159430064\n",
      "[ 1.79927088e+00 -6.07709510e+00  1.56408692e+00  1.11956250e+01\n",
      " -2.04357100e+01  2.67782963e+00  1.21943270e+01 -4.33164253e+00\n",
      " -2.85820203e+00  6.07078110e+00  1.22677220e+00  3.27331385e+01\n",
      "  5.53048875e+00  4.46080029e+01 -1.32452460e+01 -1.43241951e+01\n",
      " -1.35240552e+01 -2.44908917e+01 -1.35298576e+01  7.86210355e+00\n",
      "  3.78185231e+00 -2.01234659e+01 -1.13489156e+01 -1.85306729e+01\n",
      "  8.07214024e-03  1.05844743e+01  1.45564611e+01  3.06569213e+01\n",
      " -8.30479722e+00 -1.68950833e+00  9.54652405e-01  3.09955784e+00\n",
      " -1.64908917e+01]\n",
      "23.452190517227105\n"
     ]
    },
    {
     "data": {
      "text/plain": [
       "array([89.53773678])"
      ]
     },
     "execution_count": 4,
     "metadata": {},
     "output_type": "execute_result"
    },
    {
     "data": {
      "image/png": "[encoded data removed]",
      "text/plain": [
       "<Figure size 640x480 with 1 Axes>"
      ]
     },
     "metadata": {},
     "output_type": "display_data"
    },
    {
     "data": {
      "image/png": "[encoded data removed]",
      "text/plain": [
       "<Figure size 500x500 with 1 Axes>"
      ]
     },
     "metadata": {},
     "output_type": "display_data"
    }
   ],
   "source": [
    "#Read and cleaning data\n",
    "import pandas as pd\n",
    "df=pd.read_csv('new_df.csv')\n",
    "def mini(a):\n",
    "    a=a.split()\n",
    "    return a\n",
    "df['Salary Estimate']=df['Salary Estimate'].apply(mini)\n",
    "def minm(a) :\n",
    "    a=a[0]\n",
    "    return a\n",
    "df['Min_Salary']=df['Salary Estimate'].apply(minm)\n",
    "def maxm(a) :\n",
    "    a=a[2]\n",
    "    return a\n",
    "df['Max_Salary']=df['Salary Estimate'].apply(maxm)\n",
    "df['Min Salary']=df['Min_Salary'].apply(float)\n",
    "df['Max Salary']=df['Max_Salary'].apply(float)\n",
    "df['Average_Salary']=(df['Min Salary']+df['Max Salary'])/2\n",
    "df['Location']=df['Location'].apply(mini)\n",
    "def Eialat (a):\n",
    "    a=a[-1]\n",
    "    return a\n",
    "df['State']=df['Location'].apply(Eialat)\n",
    "df['State'].value_counts()\n",
    "df=df[df['State']!='Kingdom']\n",
    "df['State'].value_counts()\n",
    "df=df[df['Rating']!=-1]\n",
    "def title_org(j) :\n",
    "    j=j.lower()\n",
    "    if ('data scientist' in j ) or ('data science' in j) :\n",
    "        return 'data scientist'\n",
    "    elif ('data engineer' in j) :\n",
    "        return 'data engineer'\n",
    "    elif ('deep learning' in j) :\n",
    "        return 'deep learning engineer' \n",
    "    elif ('machine learning' in j) :\n",
    "        return 'machine learning engineer'\n",
    "    elif ('director' in j):\n",
    "        return 'director'\n",
    "    elif ('manager' in j) :\n",
    "        return 'manager'\n",
    "    elif ( 'analyst' in j) :\n",
    "        return 'analyst'\n",
    "    elif('researcher' in j) :\n",
    "        return 'researcher'\n",
    "    else :\n",
    "        return 'other'\n",
    "df['Job Title']=df['Job Title'].apply(title_org)\n",
    "df['Job Title'].value_counts()\n",
    "df.columns\n",
    "df.drop(columns=['Unnamed: 0','Salary Estimate','Company Name',\n",
    "       'Location', 'Size', 'Founded', 'Type of ownership', 'Industry',\n",
    "       'Sector', 'Revenue', 'Min_Salary', 'Max_Salary', 'Min Salary',\n",
    "       'Max Salary'], inplace=True)\n",
    "#df['Average_Salary'].hist(bins=10,color='blue',edgecolor='black')\n",
    "import seaborn as sns\n",
    "#sns.displot(x='Rating',data=df,bins=10)\n",
    "#sns.countplot(x='Job Title',data=df)\n",
    "import matplotlib.pyplot as plt\n",
    "plt.xticks(rotation=55)\n",
    "sns.boxplot(x='Rating',data=df)\n",
    "df.to_csv('End_cleaning.csv', index=False)\n",
    "df\n",
    "#preperation data\n",
    "df=pd.get_dummies(df,columns=['Job Title', 'State'])\n",
    "df\n",
    "#machin learning\n",
    "x=df.drop(columns = 'Average_Salary')\n",
    "y=df['Average_Salary']\n",
    "from sklearn.model_selection import train_test_split\n",
    "x_train,x_test,y_train,y_test=train_test_split(x,y,test_size=0.2,random_state=101)\n",
    "x_test\n",
    "from sklearn.linear_model import LinearRegression\n",
    "lr=LinearRegression()\n",
    "lr=lr.fit(x_train,y_train)\n",
    "print(lr.intercept_)\n",
    "print(lr.coef_)\n",
    "predection=lr.predict(x_test)\n",
    "residual=predection-y_test #residual=باقی مانده\n",
    "sns.displot(residual,bins=50)\n",
    "from sklearn import metrics\n",
    "print(metrics.mean_absolute_error(y_test,predection))\n",
    "import pickle\n",
    "pickle.dump(lr,open('Estimater.pkl','wb'))\n",
    "df.columns\n",
    "import pickle\n",
    "pickle.dump(lr,open('Estimater.pkl','wb'))\n",
    "model=pickle.load(open('Estimater.pkl','rb'))\n",
    "my_sample={'Rating':3.5, 'Job Title_analyst':1,\n",
    "       'Job Title_data engineer':0, 'Job Title_data scientist':0,\n",
    "       'Job Title_deep learning engineer':0, 'Job Title_director':0,\n",
    "       'Job Title_machine learning engineer':0, 'Job Title_manager':0,\n",
    "       'Job Title_other':0, 'Job Title_researcher':0, 'State_AZ':1, 'State_CA':0,\n",
    "       'State_DC':0, 'State_DE':0, 'State_FL':0, 'State_GA':0, 'State_IL':0, 'State_IN':0,\n",
    "       'State_KY':0, 'State_MA':0, 'State_MD':0, 'State_ME':0, 'State_MI':0, 'State_NC':0,\n",
    "       'State_NH':0, 'State_NJ':0, 'State_NM':0, 'State_NY':0, 'State_OH':0, 'State_PA':0,\n",
    "       'State_TX':0, 'State_VA':0, 'State_WI':0,}\n",
    "\n",
    "my_df=pd.DataFrame([my_sample])\n",
    "model.predict(my_df)"
   ]
  },
  {
   "cell_type": "code",
   "execution_count": 53,
   "id": "d6207548",
   "metadata": {},
   "outputs": [
    {
     "name": "stdout",
     "output_type": "stream",
     "text": [
      "              precision    recall  f1-score   support\n",
      "\n",
      "           0       0.69      0.72      0.70       722\n",
      "           1       0.72      0.69      0.70       746\n",
      "\n",
      "    accuracy                           0.70      1468\n",
      "   macro avg       0.70      0.70      0.70      1468\n",
      "weighted avg       0.70      0.70      0.70      1468\n",
      "\n"
     ]
    },
    {
     "data": {
      "text/plain": [
       "0.7043596730245232"
      ]
     },
     "execution_count": 53,
     "metadata": {},
     "output_type": "execute_result"
    }
   ],
   "source": [
    "from sklearn.linear_model import LogisticRegression\n",
    "med=df['Average_Salary'].median()\n",
    "def sat(x):\n",
    "    if x>=med:\n",
    "        return 1\n",
    "    else :\n",
    "        return 0\n",
    "df['satesfy']=df['Average_Salary'].apply(sat)\n",
    "x=df.drop(columns=['Average_Salary' , 'satesfy'])\n",
    "y=df['satesfy']\n",
    "x_train,x_test,y_train,y_test=train_test_split(x,y,test_size=0.3,random_state=101)\n",
    "logreg=LogisticRegression(max_iter=3000)\n",
    "lr=logreg.fit(x_train,y_train)\n",
    "prediction=lr.predict(x_test)\n",
    "from sklearn.metrics import confusion_matrix\n",
    "confusion_matrix(y_test,prediction)\n",
    "from sklearn.metrics import classification_report\n",
    "print(classification_report(y_test,prediction))\n",
    "from sklearn.metrics import accuracy_score\n",
    "accuracy_score(y_test,prediction)"
   ]
  },
  {
   "cell_type": "code",
   "execution_count": 59,
   "id": "173c0211",
   "metadata": {},
   "outputs": [
    {
     "name": "stdout",
     "output_type": "stream",
     "text": [
      "              precision    recall  f1-score   support\n",
      "\n",
      "           0       0.64      0.67      0.65       722\n",
      "           1       0.66      0.63      0.65       746\n",
      "\n",
      "    accuracy                           0.65      1468\n",
      "   macro avg       0.65      0.65      0.65      1468\n",
      "weighted avg       0.65      0.65      0.65      1468\n",
      "\n"
     ]
    }
   ],
   "source": [
    "from sklearn.neighbors import KNeighborsClassifier\n",
    "from warnings import simplefilter# import warnings filter\n",
    "simplefilter(action='ignore', category=FutureWarning)# ignore all future warnings\n",
    "knn=KNeighborsClassifier()\n",
    "lr=knn.fit(x_train,y_train)\n",
    "prediction=lr.predict(x_test)\n",
    "prediction\n",
    "confusion_matrix(y_test,prediction)\n",
    "accuracy_score(y_test,prediction)\n",
    "print(classification_report(y_test,prediction))"
   ]
  },
  {
   "cell_type": "code",
   "execution_count": 70,
   "id": "808f4929",
   "metadata": {},
   "outputs": [
    {
     "name": "stdout",
     "output_type": "stream",
     "text": [
      "              precision    recall  f1-score   support\n",
      "\n",
      "           0       0.65      0.70      0.67       722\n",
      "           1       0.68      0.63      0.65       746\n",
      "\n",
      "    accuracy                           0.66      1468\n",
      "   macro avg       0.66      0.66      0.66      1468\n",
      "weighted avg       0.67      0.66      0.66      1468\n",
      "\n"
     ]
    }
   ],
   "source": [
    "from sklearn.tree import DecisionTreeClassifier\n",
    "tree=DecisionTreeClassifier()\n",
    "lr=tree.fit(x_train,y_train)\n",
    "prediction=lr.predict(x_test)\n",
    "prediction\n",
    "confusion_matrix(y_test,prediction)\n",
    "accuracy_score(y_test,prediction)\n",
    "print(classification_report(y_test,prediction))"
   ]
  },
  {
   "cell_type": "code",
   "execution_count": 78,
   "id": "2175547a",
   "metadata": {},
   "outputs": [
    {
     "name": "stdout",
     "output_type": "stream",
     "text": [
      "              precision    recall  f1-score   support\n",
      "\n",
      "           0       0.67      0.63      0.65       722\n",
      "           1       0.66      0.69      0.68       746\n",
      "\n",
      "    accuracy                           0.66      1468\n",
      "   macro avg       0.66      0.66      0.66      1468\n",
      "weighted avg       0.66      0.66      0.66      1468\n",
      "\n"
     ]
    }
   ],
   "source": [
    "from sklearn.ensemble import RandomForestClassifier\n",
    "rf=RandomForestClassifier()\n",
    "lr=rf.fit(x_train,y_train)\n",
    "prediction=lr.predict(x_test)\n",
    "prediction\n",
    "confusion_matrix(y_test,prediction)\n",
    "accuracy_score(y_test,prediction)\n",
    "print(classification_report(y_test,prediction))"
   ]
  },
  {
   "cell_type": "code",
   "execution_count": 74,
   "id": "ca0c9a00",
   "metadata": {},
   "outputs": [
    {
     "data": {
      "text/plain": [
       "4486    0\n",
       "3115    1\n",
       "2673    0\n",
       "4506    0\n",
       "4392    1\n",
       "       ..\n",
       "5084    0\n",
       "2070    0\n",
       "3327    0\n",
       "1986    0\n",
       "4558    1\n",
       "Name: satesfy, Length: 1468, dtype: int64"
      ]
     },
     "execution_count": 74,
     "metadata": {},
     "output_type": "execute_result"
    }
   ],
   "source": [
    "y_test"
   ]
  },
  {
   "cell_type": "code",
   "execution_count": null,
   "id": "f0bdd7df",
   "metadata": {},
   "outputs": [],
   "source": []
  }
 ],
 "metadata": {
  "kernelspec": {
   "display_name": "Python 3 (ipykernel)",
   "language": "python",
   "name": "python3"
  },
  "language_info": {
   "codemirror_mode": {
    "name": "ipython",
    "version": 3
   },
   "file_extension": ".py",
   "mimetype": "text/x-python",
   "name": "python",
   "nbconvert_exporter": "python",
   "pygments_lexer": "ipython3",
   "version": "3.9.13"
  }
 },
 "nbformat": 4,
 "nbformat_minor": 5
}
